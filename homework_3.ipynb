{
  "nbformat": 4,
  "nbformat_minor": 0,
  "metadata": {
    "colab": {
      "provenance": []
    },
    "kernelspec": {
      "name": "python3",
      "display_name": "Python 3"
    },
    "language_info": {
      "name": "python"
    }
  },
  "cells": [
    {
      "cell_type": "markdown",
      "source": [
        "سوال اول"
      ],
      "metadata": {
        "id": "bXsuvn7g6_dy"
      }
    },
    {
      "cell_type": "code",
      "source": [
        "#ساختن تابع:\n",
        "def calculator():\n",
        "    print(\"ماشین حساب\")\n",
        "\n",
        "    # دریافت اعداد:\n",
        "    num1 = float(input(\"عدد اول را وارد کنید: \"))\n",
        "    num2 = float(input(\"عدد دوم را وارد کنید: \"))\n",
        "\n",
        "    # دریافت عملیات:\n",
        "    operation = input(\"عملیات موردنظر را وارد کنید (+, -, *, /): \")\n",
        "\n",
        "    # انجام دادن عملیات ها روی اعداد:\n",
        "    if operation == '+':\n",
        "        result = num1 + num2\n",
        "        print(f\"نتیجه: {num1} + {num2} = {result}\")\n",
        "    elif operation == '-':\n",
        "        result = num1 - num2\n",
        "        print(f\"نتیجه: {num1} - {num2} = {result}\")\n",
        "    elif operation == '*':\n",
        "        result = num1 * num2\n",
        "        print(f\"نتیجه: {num1} × {num2} = {result}\")\n",
        "    elif operation == '/':\n",
        "        if num2 != 0:\n",
        "            result = num1 / num2\n",
        "            print(f\"نتیجه: {num1} ÷ {num2} = {result}\")\n",
        "        else:\n",
        "            print(\"خطا: تقسیم بر صفر امکان‌پذیر نیست!\")\n",
        "    else:\n",
        "        print(\"خطا: عملیات نامعتبر!\")\n",
        "\n",
        "#نمایش تابع ساخته شده:\n",
        "calculator()"
      ],
      "metadata": {
        "colab": {
          "base_uri": "https://localhost:8080/"
        },
        "id": "Cx38jpb27Bme",
        "outputId": "53d0f258-efc6-4a17-e878-bc7143705cd4"
      },
      "execution_count": 2,
      "outputs": [
        {
          "output_type": "stream",
          "name": "stdout",
          "text": [
            "ماشین حساب\n",
            "عدد اول را وارد کنید: 15\n",
            "عدد دوم را وارد کنید: 7\n",
            "عملیات موردنظر را وارد کنید (+, -, *, /): /\n",
            "🔹 نتیجه: 15.0 ÷ 7.0 = 2.142857142857143\n"
          ]
        }
      ]
    },
    {
      "cell_type": "markdown",
      "source": [
        "سوال دوم\n"
      ],
      "metadata": {
        "id": "Q2HyUZHP8nTf"
      }
    },
    {
      "cell_type": "code",
      "source": [
        "def smart_shopping_list():\n",
        "    print(\" لیست خرید هوشمند پوشاک \")\n",
        "\n",
        "    # لیست اولیه از پوشاک\n",
        "    shopping_list = [\"تی‌شرت\", \"شلوار\", \"کفش\", \"کلاه\"]\n",
        "\n",
        "    while True:\n",
        "        print(\"\\nلیست فعلی:\", \"، \".join(shopping_list))  # نمایش لیست فعلی\n",
        "        item = input(\"\\n نام پوشاک موردنظر را وارد کنید (+'1' برای خروج و ثبت نهایی): \").strip()\n",
        "\n",
        "        if item.lower() == '1':\n",
        "            break\n",
        "\n",
        "        if item in shopping_list:\n",
        "            print(f\" {item} از قبل در لیست خرید موجود است. \")\n",
        "        else:\n",
        "            shopping_list.append(item)\n",
        "            print(f\" {item} به لیست خرید اضافه شد! \")\n",
        "\n",
        "    # نمایش لیست نهایی\n",
        "    print(\"\\n لیست خرید نهایی شما:\")\n",
        "    print( \" | \".join(shopping_list))  # مرتب شده\n",
        "\n",
        "\n",
        "smart_shopping_list()"
      ],
      "metadata": {
        "colab": {
          "base_uri": "https://localhost:8080/"
        },
        "id": "JtISR9B9C5FD",
        "outputId": "c98abab9-57c4-46c6-bf3b-f6b72532456c"
      },
      "execution_count": 15,
      "outputs": [
        {
          "output_type": "stream",
          "name": "stdout",
          "text": [
            " لیست خرید هوشمند پوشاک \n",
            "\n",
            "لیست فعلی: تی‌شرت، شلوار، کفش، کلاه\n",
            "\n",
            " نام پوشاک موردنظر را وارد کنید (+'1' برای خروج و ثبت نهایی): روسری\n",
            " روسری به لیست خرید اضافه شد! \n",
            "\n",
            "لیست فعلی: تی‌شرت، شلوار، کفش، کلاه، روسری\n",
            "\n",
            " نام پوشاک موردنظر را وارد کنید (+'1' برای خروج و ثبت نهایی): 1\n",
            "\n",
            " لیست خرید نهایی شما:\n",
            "تی‌شرت | شلوار | کفش | کلاه | روسری\n"
          ]
        }
      ]
    },
    {
      "cell_type": "markdown",
      "source": [
        "سوال سوم"
      ],
      "metadata": {
        "id": "YlAdrL5dFKQV"
      }
    },
    {
      "cell_type": "code",
      "source": [
        "def smart_savings():\n",
        "    print(\"سیستم پس‌انداز هوشمند \")\n",
        "\n",
        "    #دریافت مبلغ\n",
        "    target = float(input(\" مبلغ موردنظر برای پس‌انداز را وارد کنید: \"))\n",
        "\n",
        "    saved = 0  # مقدار اولیه پس‌انداز\n",
        "\n",
        "    while saved < target:\n",
        "        print(f\"\\n مبلغ فعلی پس‌انداز: {saved} از {target} تومان\")\n",
        "        amount = float(input(\" مقدار مبلغی که میخواهید به پس انداز وارد کنید را وارد کنید: \"))\n",
        "\n",
        "        if amount > 0:\n",
        "            saved += amount\n",
        "            print(\" مبلغ با موفقیت اضافه شد!\")\n",
        "        else:\n",
        "            print(\"⚠️لطفاً مقدار معتبر (مثبت) وارد کنید.\")\n",
        "\n",
        "    print(f\"\\n تبریک! شما به هدف خود رسیدید! پس‌انداز نهایی: {saved} تومان\")\n",
        "\n",
        "\n",
        "# اجرای برنامه\n",
        "smart_savings()"
      ],
      "metadata": {
        "colab": {
          "base_uri": "https://localhost:8080/"
        },
        "id": "0ywYBKBgFVdC",
        "outputId": "98e36c0d-1621-4f24-fc19-0dd8ac2651ea"
      },
      "execution_count": 18,
      "outputs": [
        {
          "output_type": "stream",
          "name": "stdout",
          "text": [
            "سیستم پس‌انداز هوشمند \n",
            " مبلغ موردنظر برای پس‌انداز را وارد کنید: 800000\n",
            "\n",
            " مبلغ فعلی پس‌انداز: 0 از 800000.0 تومان\n",
            " مقدار مبلغی که میخواهید به پس انداز وارد کنید را وارد کنید: 5000\n",
            " مبلغ با موفقیت اضافه شد!\n",
            "\n",
            " مبلغ فعلی پس‌انداز: 5000.0 از 800000.0 تومان\n",
            " مقدار مبلغی که میخواهید به پس انداز وارد کنید را وارد کنید: 9000000\n",
            " مبلغ با موفقیت اضافه شد!\n",
            "\n",
            " تبریک! شما به هدف خود رسیدید! پس‌انداز نهایی: 9005000.0 تومان\n"
          ]
        }
      ]
    },
    {
      "cell_type": "markdown",
      "source": [
        "سوال چهارم"
      ],
      "metadata": {
        "id": "c7UExqNiIyeI"
      }
    },
    {
      "cell_type": "code",
      "source": [
        "def todo_list():\n",
        "    print(\" دفترچه مدیریت کارهای روزانه \")\n",
        "\n",
        "    tasks = []  # لیست برای ذخیره کارها\n",
        "\n",
        "    while True:\n",
        "        print(\"\\n گزینه‌های موجود:\")\n",
        "        print(\"1افزودن کار جدید\")\n",
        "        print(\"2️ حذف یک کار\")\n",
        "        print(\"3️ مشاهده لیست کارها\")\n",
        "        print(\"4️ خروج\")\n",
        "\n",
        "        choice = input(\"\\nگزینه موردنظر را وارد کنید: \").strip()\n",
        "\n",
        "        if choice == \"1\":\n",
        "            task = input(\" نام کار جدید را وارد کنید: \").strip()\n",
        "            if task:\n",
        "                tasks.append(task)\n",
        "                print(f\" کار '{task}' به لیست اضافه شد.\")\n",
        "            else:\n",
        "                print(\" نام کار نمی‌تواند خالی باشد!\")\n",
        "\n",
        "        elif choice == \"2\":\n",
        "            task = input(\" نام کاری که می‌خواهید حذف کنید: \").strip()\n",
        "            if task in tasks:\n",
        "                tasks.remove(task)\n",
        "                print(f\" کار '{task}' حذف شد.\")\n",
        "            else:\n",
        "                print(\"این کار در لیست وجود ندارد!\")\n",
        "\n",
        "        elif choice == \"3\":\n",
        "            if tasks:\n",
        "                print(\"\\n*لیست کارهای شما:*\")\n",
        "                for idx, task in enumerate(tasks, start=1):\n",
        "                    print(f\"{idx}. {task}\")\n",
        "            else:\n",
        "                print(\" لیست کارها خالی است!\")\n",
        "\n",
        "        elif choice == \"4\":\n",
        "            print(\"خداحافظ! موفق باشید. \")\n",
        "            break\n",
        "\n",
        "        else:\n",
        "            print(\" گزینه نامعتبر! لطفاً عددی بین 1 تا 4 وارد کنید.\")\n",
        "\n",
        "# اجرای برنامه\n",
        "todo_list()"
      ],
      "metadata": {
        "colab": {
          "base_uri": "https://localhost:8080/"
        },
        "id": "1uzk8eWLI031",
        "outputId": "2f6a327b-8f3f-4ee6-fccc-e9bde0523b12"
      },
      "execution_count": 19,
      "outputs": [
        {
          "output_type": "stream",
          "name": "stdout",
          "text": [
            " دفترچه مدیریت کارهای روزانه \n",
            "\n",
            " گزینه‌های موجود:\n",
            "1افزودن کار جدید\n",
            "2️ حذف یک کار\n",
            "3️ مشاهده لیست کارها\n",
            "4️ خروج\n",
            "\n",
            "گزینه موردنظر را وارد کنید: 1\n",
            " نام کار جدید را وارد کنید: خواندن فیزیک\n",
            " کار 'خواندن فیزیک' به لیست اضافه شد.\n",
            "\n",
            " گزینه‌های موجود:\n",
            "1افزودن کار جدید\n",
            "2️ حذف یک کار\n",
            "3️ مشاهده لیست کارها\n",
            "4️ خروج\n",
            "\n",
            "گزینه موردنظر را وارد کنید: 1\n",
            " نام کار جدید را وارد کنید: مرور کردن کارهای روز\n",
            " کار 'مرور کردن کارهای روز' به لیست اضافه شد.\n",
            "\n",
            " گزینه‌های موجود:\n",
            "1افزودن کار جدید\n",
            "2️ حذف یک کار\n",
            "3️ مشاهده لیست کارها\n",
            "4️ خروج\n",
            "\n",
            "گزینه موردنظر را وارد کنید: 3\n",
            "\n",
            "*لیست کارهای شما:*\n",
            "1. خواندن فیزیک\n",
            "2. مرور کردن کارهای روز\n",
            "\n",
            " گزینه‌های موجود:\n",
            "1افزودن کار جدید\n",
            "2️ حذف یک کار\n",
            "3️ مشاهده لیست کارها\n",
            "4️ خروج\n",
            "\n",
            "گزینه موردنظر را وارد کنید: 4\n",
            "خداحافظ! موفق باشید. \n"
          ]
        }
      ]
    }
  ]
}